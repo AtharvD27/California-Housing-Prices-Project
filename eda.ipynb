{
 "cells": [
  {
   "cell_type": "markdown",
   "metadata": {},
   "source": [
    "# California Housing Market Analysis (Python-based)"
   ]
  },
  {
   "cell_type": "code",
   "execution_count": 5,
   "metadata": {},
   "outputs": [],
   "source": [
    "import pandas as pd\n",
    "import numpy as np\n",
    "\n",
    "# Load the dataset\n",
    "housing_data = pd.read_csv('Data/housing_data.csv')"
   ]
  },
  {
   "cell_type": "code",
   "execution_count": 6,
   "metadata": {},
   "outputs": [],
   "source": [
    "# Fill missing values for all columns with the median of the respective column\n",
    "# Fill missing values only for numeric columns\n",
    "numeric_columns = housing_data.select_dtypes(include=[np.number])\n",
    "housing_data[numeric_columns.columns] = numeric_columns.fillna(numeric_columns.median())\n"
   ]
  },
  {
   "cell_type": "markdown",
   "metadata": {},
   "source": [
    "## **Data Analysis**"
   ]
  },
  {
   "cell_type": "markdown",
   "metadata": {},
   "source": [
    "**Correlation Between Income and House Value**: We sort the `median_income` and `median_house_value` columns to see the relationship between income and house value."
   ]
  },
  {
   "cell_type": "code",
   "execution_count": 7,
   "metadata": {},
   "outputs": [],
   "source": [
    "income_vs_value = housing_data[['median_income', 'median_house_value']].sort_values(by='median_income', ascending=False)"
   ]
  },
  {
   "cell_type": "markdown",
   "metadata": {},
   "source": [
    "**Income Segmentation and House Prices**: We create an `income_category` function to group different income ranges and calculate the average house price for each category."
   ]
  },
  {
   "cell_type": "code",
   "execution_count": 8,
   "metadata": {},
   "outputs": [],
   "source": [
    "def income_category(income):\n",
    "    if income < 2:\n",
    "        return 'Very Low'\n",
    "    elif 2 <= income < 3:\n",
    "        return 'Low'\n",
    "    elif 3 <= income < 4:\n",
    "        return 'Median'\n",
    "    elif 4 <= income < 5:\n",
    "        return 'High'\n",
    "    else:\n",
    "        return 'Very High'\n",
    "\n",
    "housing_data['income_category'] = housing_data['median_income'].apply(income_category)\n",
    "income_segmentation = housing_data.groupby('income_category')['median_house_value'].mean().reset_index().sort_values(by='median_house_value', ascending=False)"
   ]
  },
  {
   "cell_type": "markdown",
   "metadata": {},
   "source": [
    "**Room and Bedroom Counts Impact on House Prices**: Two separate analyses, one based on the total number of bedrooms and one based on the total number of rooms, rounding the values to create groupings, and then calculating average house prices for each group."
   ]
  },
  {
   "cell_type": "code",
   "execution_count": 9,
   "metadata": {},
   "outputs": [],
   "source": [
    "# By Bedroom Count\n",
    "housing_data['bedroom_group'] = housing_data['total_bedrooms'].round(-1)\n",
    "bedroom_counts = housing_data.groupby('bedroom_group')['median_house_value'].mean().reset_index().sort_values(by='median_house_value', ascending=False)\n",
    "\n",
    "# By Room Count\n",
    "housing_data['room_group'] = housing_data['total_rooms'].round(-1)\n",
    "room_counts = housing_data.groupby('room_group')['median_house_value'].mean().reset_index().sort_values(by='median_house_value', ascending=False)"
   ]
  },
  {
   "cell_type": "markdown",
   "metadata": {},
   "source": [
    "**Ocean Proximity and House Prices**: We group the data by `ocean_proximity` and calculate the average house prices for each proximity group."
   ]
  },
  {
   "cell_type": "code",
   "execution_count": 10,
   "metadata": {},
   "outputs": [],
   "source": [
    "ocean_proximity = housing_data.groupby('ocean_proximity')['median_house_value'].mean().reset_index().sort_values(by='median_house_value', ascending=False)"
   ]
  },
  {
   "cell_type": "markdown",
   "metadata": {},
   "source": [
    "**Z-Score Distribution of House Prices**: We calculate the Z-scores of house prices to identify outliers and evaluate price distributions."
   ]
  },
  {
   "cell_type": "code",
   "execution_count": 11,
   "metadata": {},
   "outputs": [],
   "source": [
    "avg_house_value = housing_data['median_house_value'].mean()\n",
    "stddev_house_value = housing_data['median_house_value'].std()\n",
    "\n",
    "housing_data['z_score'] = (housing_data['median_house_value'] - avg_house_value) / stddev_house_value"
   ]
  },
  {
   "cell_type": "markdown",
   "metadata": {},
   "source": [
    "**Price Distribution by Location (Longitude and Latitude)**: We round off the `longitude` and `latitude` values to group locations, then calculate the average house value for each geographic location."
   ]
  },
  {
   "cell_type": "code",
   "execution_count": 12,
   "metadata": {},
   "outputs": [],
   "source": [
    "housing_data['rounded_longitude'] = housing_data['longitude'].round(1)\n",
    "housing_data['rounded_latitude'] = housing_data['latitude'].round(1)\n",
    "price_distribution = housing_data.groupby(['rounded_longitude', 'rounded_latitude'])['median_house_value'].mean().reset_index()"
   ]
  },
  {
   "cell_type": "markdown",
   "metadata": {},
   "source": [
    "**Income to House Price Ratio by Ocean Proximity**: We calculate the ratio of house prices to income for each location and group them by `ocean_proximity`."
   ]
  },
  {
   "cell_type": "code",
   "execution_count": 13,
   "metadata": {},
   "outputs": [],
   "source": [
    "housing_data['price_income_ratio'] = housing_data['median_house_value'] / housing_data['median_income']\n",
    "income_to_price_ratio = housing_data.groupby('ocean_proximity')['price_income_ratio'].mean().reset_index().sort_values(by='price_income_ratio', ascending=False)"
   ]
  },
  {
   "cell_type": "code",
   "execution_count": 14,
   "metadata": {},
   "outputs": [
    {
     "name": "stdout",
     "output_type": "stream",
     "text": [
      "Income vs House Value:\n",
      "        median_income  median_house_value\n",
      "4352         15.0001            500001.0\n",
      "10673        15.0001            500001.0\n",
      "8849         15.0001            500001.0\n",
      "4606         15.0001            500001.0\n",
      "5257         15.0001            500001.0\n",
      "Income Segmentation:\n",
      "   income_category  median_house_value\n",
      "3       Very High       328225.139277\n",
      "0            High       227656.486584\n",
      "2          Median       190584.716560\n",
      "1             Low       144222.172148\n",
      "4        Very Low       112512.674867\n",
      "Bedroom Count Impact:\n",
      "      bedroom_group  median_house_value\n",
      "340         5420.0       500001.000000\n",
      "286         3020.0       491200.000000\n",
      "193         1930.0       472000.000000\n",
      "315         3860.0       451100.000000\n",
      "207         2080.0       402050.500000\n",
      "..             ...                 ...\n",
      "237         2400.0        95266.666667\n",
      "221         2230.0        81300.000000\n",
      "291         3100.0        78500.000000\n",
      "224         2260.0        74400.000000\n",
      "292         3110.0        28300.000000\n",
      "\n",
      "[344 rows x 2 columns]\n",
      "Room Count Impact:\n",
      "       room_group  median_house_value\n",
      "1093     15990.0            500001.0\n",
      "964      10810.0            500001.0\n",
      "920      10020.0            500001.0\n",
      "919      10010.0            500001.0\n",
      "1106     16540.0            500001.0\n",
      "...          ...                 ...\n",
      "872       9350.0             69900.0\n",
      "942      10380.0             66800.0\n",
      "878       9440.0             65600.0\n",
      "795       8190.0             35000.0\n",
      "1123     17740.0             28300.0\n",
      "\n",
      "[1171 rows x 2 columns]\n",
      "Ocean Proximity Impact:\n",
      "   ocean_proximity  median_house_value\n",
      "2          ISLAND       380440.000000\n",
      "3        NEAR BAY       259212.311790\n",
      "4      NEAR OCEAN       249433.977427\n",
      "0       <1H OCEAN       240084.285464\n",
      "1          INLAND       124805.392001\n",
      "Price Distribution by Location:\n",
      "       rounded_longitude  rounded_latitude  median_house_value\n",
      "0                -124.4              40.5             94600.0\n",
      "1                -124.3              40.6            111400.0\n",
      "2                -124.3              40.7             79000.0\n",
      "3                -124.3              41.8             94700.0\n",
      "4                -124.2              40.3             76100.0\n",
      "...                 ...               ...                 ...\n",
      "1558             -114.6              34.8             60480.0\n",
      "1559             -114.6              34.9             69100.0\n",
      "1560             -114.5              34.0             87500.0\n",
      "1561             -114.5              34.4             80100.0\n",
      "1562             -114.3              34.2             66900.0\n",
      "\n",
      "[1563 rows x 3 columns]\n",
      "Income to Price Ratio:\n",
      "   ocean_proximity  price_income_ratio\n",
      "2          ISLAND       143649.735901\n",
      "3        NEAR BAY        67855.785918\n",
      "4      NEAR OCEAN        66445.247577\n",
      "0       <1H OCEAN        61963.755763\n",
      "1          INLAND        40825.346874\n"
     ]
    }
   ],
   "source": [
    "# Display results (optional)\n",
    "print(\"Income vs House Value:\\n\", income_vs_value.head())\n",
    "print(\"Income Segmentation:\\n\", income_segmentation)\n",
    "print(\"Bedroom Count Impact:\\n\", bedroom_counts)\n",
    "print(\"Room Count Impact:\\n\", room_counts)\n",
    "print(\"Ocean Proximity Impact:\\n\", ocean_proximity)\n",
    "print(\"Price Distribution by Location:\\n\", price_distribution)\n",
    "print(\"Income to Price Ratio:\\n\", income_to_price_ratio)"
   ]
  }
 ],
 "metadata": {
  "kernelspec": {
   "display_name": "base",
   "language": "python",
   "name": "python3"
  },
  "language_info": {
   "codemirror_mode": {
    "name": "ipython",
    "version": 3
   },
   "file_extension": ".py",
   "mimetype": "text/x-python",
   "name": "python",
   "nbconvert_exporter": "python",
   "pygments_lexer": "ipython3",
   "version": "3.11.5"
  }
 },
 "nbformat": 4,
 "nbformat_minor": 2
}
